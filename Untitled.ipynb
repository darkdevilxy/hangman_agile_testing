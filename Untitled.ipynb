{
 "cells": [
  {
   "cell_type": "code",
   "execution_count": 9,
   "id": "1c971ff4-277f-460c-9af7-891199648d52",
   "metadata": {},
   "outputs": [],
   "source": [
    "dataset = open(\"datasets/words.txt\", \"r\")\n",
    "for data in dataset:\n",
    "    if len(data) > 8: \n",
    "        with open(\"datasets/cleaned_data.txt\", \"a\") as f:\n",
    "            f.write(data)\n"
   ]
  },
  {
   "cell_type": "code",
   "execution_count": 10,
   "id": "a728cc10-0975-4be1-8791-8de1cca2401a",
   "metadata": {},
   "outputs": [
    {
     "name": "stdout",
     "output_type": "stream",
     "text": [
      "datasets\n"
     ]
    }
   ],
   "source": [
    "from pathlib import Path\n",
    "datasets = Path(\"./datasets\")\n",
    "print(datasets)\n"
   ]
  }
 ],
 "metadata": {
  "kernelspec": {
   "display_name": "Python 3 (ipykernel)",
   "language": "python",
   "name": "python3"
  },
  "language_info": {
   "codemirror_mode": {
    "name": "ipython",
    "version": 3
   },
   "file_extension": ".py",
   "mimetype": "text/x-python",
   "name": "python",
   "nbconvert_exporter": "python",
   "pygments_lexer": "ipython3",
   "version": "3.13.7"
  }
 },
 "nbformat": 4,
 "nbformat_minor": 5
}
